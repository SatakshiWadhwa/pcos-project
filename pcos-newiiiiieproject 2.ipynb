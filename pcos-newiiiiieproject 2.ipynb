{
 "cells": [
  {
   "cell_type": "markdown",
   "id": "00da9702",
   "metadata": {
    "papermill": {
     "duration": 0.023835,
     "end_time": "2024-03-13T15:39:51.120238",
     "exception": false,
     "start_time": "2024-03-13T15:39:51.096403",
     "status": "completed"
    },
    "tags": []
   },
   "source": [
    "<div style=\"background-color:#F0F4F7; border-radius:20px; padding:20px;\">\n",
    "    <h2 style=\"font-family: Arial, sans-serif; color:#2E4053; text-align:center;\">POLYCYSTIC OVARY SYNDROME (PCOS): Detection Model</h2>\n",
    "</div>\n",
    "\n",
    "\n",
    "\n",
    "## Building A Classification Model\n",
    "\n",
    "\n",
    "#### By Satakshi and Khushi\n",
    "\n",
    "**03/08/2024**"
   ]
  },
  {
   "cell_type": "markdown",
   "id": "ae7ea7f4",
   "metadata": {
    "jp-MarkdownHeadingCollapsed": true,
    "papermill": {
     "duration": 0.022589,
     "end_time": "2024-03-13T15:39:51.213449",
     "exception": false,
     "start_time": "2024-03-13T15:39:51.190860",
     "status": "completed"
    },
    "tags": []
   },
   "source": [
    "<div style=\"background-color:#F0F4F7; border-radius:10px; padding:20px;\">\n",
    "    <h2 style=\"font-family: Arial, sans-serif; color:#2E4053; text-align:center;\">PCOS: More Than Just Cysts</h2>\n",
    "    <p style=\"font-family: Arial, sans-serif; color:#34495E; font-size:16px; text-align:justify;\">Polycystic Ovary Syndrome (PCOS) is a hormonal imbalance affecting millions of women. Characterized by irregular periods, excess androgen, and small cysts on the ovaries, PCOS can lead to a range of health issues including infertility, diabetes, and heart disease. Early diagnosis and management are crucial for improving quality of life.</p>\n",
    "</div>"
   ]
  },
  {
   "cell_type": "markdown",
   "id": "eb435f33",
   "metadata": {
    "papermill": {
     "duration": 0.022576,
     "end_time": "2024-03-13T15:39:51.351436",
     "exception": false,
     "start_time": "2024-03-13T15:39:51.328860",
     "status": "completed"
    },
    "tags": []
   },
   "source": [
    "<div style=\"background-color:#F0F4F7; border-radius:10px; padding:20px;\">\n",
    "    <h2 style=\"font-family: Arial, sans-serif; color:#2E4053; text-align:center;\">Section Overview</h2>\n",
    "    \n",
    "* **The Dataset**\n",
    "* **Importing Libraries**\n",
    "* **Loading data**\n",
    "* **Data Preprocessing**\n",
    "* **Exploratory Data Analysis**\n",
    "* **Model Building**"
   ]
  },
  {
   "cell_type": "markdown",
   "id": "47b41591",
   "metadata": {
    "papermill": {
     "duration": 0.022955,
     "end_time": "2024-03-13T15:39:51.399191",
     "exception": false,
     "start_time": "2024-03-13T15:39:51.376236",
     "status": "completed"
    },
    "tags": []
   },
   "source": [
    "<div style=\"background-color:#F0F4F7; border-radius:10px; padding:20px;\">\n",
    "    <h2 style=\"font-family: Arial, sans-serif; color:#2E4053; text-align:center;\">Data Description</h2>\n",
    "    <p style=\"font-family: Arial, sans-serif; color:#34495E; font-size:16px; text-align:justify;\">Polycystic Ovary Syndrome, The dataset contains all physical and clinical parameters to determine PCOS and infertility related issues and the\n",
    "data was collected from Kaggle.</p>\n",
    "</div>"
   ]
  },
  {
   "cell_type": "markdown",
   "id": "b54def70",
   "metadata": {
    "papermill": {
     "duration": 0.022724,
     "end_time": "2024-03-13T15:39:51.493156",
     "exception": false,
     "start_time": "2024-03-13T15:39:51.470432",
     "status": "completed"
    },
    "tags": []
   },
   "source": [
    "* Patient File No. : This is the report number which has data for a particular patient\n",
    "* PCOS : Polycystic ovary syndrome (PCOS) is a hormonal disorder common among women of reproductive age, we would like to determine whether the patient has this syndrome or not\n",
    "* Age (yrs) : Age of patient in years\n",
    "* Weight (Kg) : Weight of patient in kg\n",
    "* Height(Cm) : Height of patient in centimeter\n",
    "* BMI : Body mass index of the patient\n",
    "* Blood Group : Blood Group of the patient A+ = 11, A- = 12, B+ = 13, B- = 14, O+ =15, O- = 16, AB+ =17, AB- = 18 (total 8 blood groups)\n",
    "* Pulse rate(bpm) : It is the heart rate of patient in beats per minute. Resting heart rate for adults ranges from 60 to 100 beats per minute\n",
    "* RR (breaths/min) : It is the respiration rate. Normal respiration rates for an adult person at rest range from 12 to 16 breaths per minute.\n",
    "* Hb(g/dl) : Hemoglobin levels in gram per deciliter. For women, a normal level ranges between 12.3 gm/dL and 15.3 gm/dL.\n",
    "* Cycle(R/I) : ....\n",
    "* Cycle length(days) : This represents length of menstrual cycle. The length of the menstrual cycle varies from woman to woman, but the average is to have periods every 28 days.\n",
    "* Marraige Status (Yrs) : Years of marriage\n",
    "* Pregnant(Y/N) : If the patient is pregnant\n",
    "* No. of aborptions : No. of aborptions, if any. There are total 541 values out of which 437 patients never had any abortions.\n",
    "* I beta-HCG(mIU/mL) : this is case 1 of beta hcg\n",
    "* II beta-HCG(mIU/mL) : this is case 2 of beta hcg (please note: An beta hCG level of less than 5 mIU/mL is considered negative for pregnancy, and anything above 25 mIU/mL is considered positive for pregnancy) (also the unit mIU/mL is mili International Units per miliLiter)\n",
    "* FSH(mIU/mL) : Its full form is Follicle-stimulating hormone. During puberty: it ranges from 0.3 to 10.0 mIU/mL (0.3 to 10.0 IU/L) Women who are still menstruating: 4.7 to 21.5 mIU/mL (4.5 to 21.5 IU/L) After menopause: 25.8 to 134.8 mIU/mL (25.8 to 134.8 IU/L)\n",
    "* LH(mIU/mL) : It is Luteinizing Hormone.\n",
    "* FSH/LH : Ratio of FSH and LH\n",
    "* Hip(inch) : Hip size in inches\n",
    "* Waist(inch) : Waist Size in inches\n",
    "* Waist:Hip Ratio : Waist by hip ratio\n",
    "* TSH (mIU/L) : It is thyroid stimulating hormone. Normal values are from 0.4 to 4.0 mIU/L\n",
    "* AMH(ng/mL) : It is Anti-Mullerian Hormone.\n",
    "* PRL(ng/mL) : This represents Prolactin levels.\n",
    "* Vit D3 (ng/mL): Vitamin D levels. Normal vitamin D levels in the blood are 20 ng/ml or above for adults.\n",
    "* PRG(ng/mL): Progesterone levels\n",
    "* RBS(mg/dl): This value is obtained by doing Random Blood Sugar (RBS) Test.\n",
    "* Weight gain(Y/N): Is there been a weight gain\n",
    "* hair growth(Y/N): Is there been a hair growth\n",
    "* Skin darkening (Y/N): Skin darkening issues\n",
    "* Hair loss(Y/N): hair loss issues\n",
    "* Pimples(Y/N): pimples issues\n",
    "* Fast food (Y/N): is fast food part of you diet\n",
    "* Reg.Exercise(Y/N): do you do exercises on a regular basis\n",
    "* BP _Systolic (mmHg): Systolic blood pressure, measures the pressure in your arteries when your heart beats.\n",
    "* BP _Diastolic (mmHg): Diastolic blood pressure, measures the pressure in your arteries when your heart rests between beats.\n",
    "* Follicle No. (L): Follicles number in the left side\n",
    "* Follicle No. (R): Follicles number in the right side\n",
    "* Avg. F size (L) (mm): Average Follicle size in the left side in mm\n",
    "* Avg. F size (R) (mm): Average Follicle size in the right side in mm\n",
    "* Endometrium (mm): Size of Endometrium in mm"
   ]
  },
  {
   "cell_type": "markdown",
   "id": "593f746a",
   "metadata": {
    "papermill": {
     "duration": 0.02253,
     "end_time": "2024-03-13T15:39:51.538557",
     "exception": false,
     "start_time": "2024-03-13T15:39:51.516027",
     "status": "completed"
    },
    "tags": []
   },
   "source": [
    "<div style=\"background-color:#F0F4F7; border-radius:10px; padding:20px;\">\n",
    "    <h2 style=\"font-family: Arial, sans-serif; color:#2E4053; text-align:center;\">Importing Libraries</h2>"
   ]
  },
  {
   "cell_type": "code",
   "execution_count": 468,
   "id": "cf251f2f",
   "metadata": {
    "papermill": {
     "duration": 3.377026,
     "end_time": "2024-03-13T15:39:54.938453",
     "exception": false,
     "start_time": "2024-03-13T15:39:51.561427",
     "status": "completed"
    },
    "tags": []
   },
   "outputs": [],
   "source": [
    "# get important libraries\n",
    "\n",
    "import numpy as np \n",
    "import pandas as pd\n",
    "import matplotlib.pyplot as plt\n",
    "import seaborn as sns\n",
    "from sklearn.model_selection import train_test_split\n",
    "from sklearn.ensemble import RandomForestClassifier\n",
    "from sklearn.metrics import accuracy_score\n",
    "from sklearn.model_selection import cross_val_score\n",
    "from sklearn.model_selection import GridSearchCV\n",
    "from sklearn.metrics import confusion_matrix\n",
    "from sklearn.metrics import classification_report\n",
    "\n",
    "\n",
    "import warnings\n",
    "warnings.filterwarnings('ignore')\n",
    "import os\n",
    "for dirname, _, filenames in os.walk('/C:/Usersinput'):\n",
    "    for filename in filenames:\n",
    "        print(os.path.join(dirname, filename))\n",
    "\n"
   ]
  },
  {
   "cell_type": "markdown",
   "id": "6299f932",
   "metadata": {
    "papermill": {
     "duration": 0.023049,
     "end_time": "2024-03-13T15:39:54.984772",
     "exception": false,
     "start_time": "2024-03-13T15:39:54.961723",
     "status": "completed"
    },
    "tags": []
   },
   "source": [
    "<div style=\"background-color:#F0F4F7; border-radius:10px; padding:20px;\">\n",
    "    <h3 style=\"font-family: Arial, sans-serif; color:#2E4053; text-align:center;\">Data Import</h3>"
   ]
  },
  {
   "cell_type": "code",
   "execution_count": null,
   "id": "cf7ccd50",
   "metadata": {
    "papermill": {
     "duration": 0.066277,
     "end_time": "2024-03-13T15:39:55.075427",
     "exception": false,
     "start_time": "2024-03-13T15:39:55.009150",
     "status": "completed"
    },
    "tags": []
   },
   "outputs": [],
   "source": [
    "import pandas as pd\n",
    "pcos_inf= pd.read_csv(\"C:/Users/KHUSHI/OneDrive/Desktop/PCOS_infertility.csv\")\n",
    "pcos_inf.head()"
   ]
  },
  {
   "cell_type": "code",
   "execution_count": null,
   "id": "9cc2b59c",
   "metadata": {
    "papermill": {
     "duration": 1.345648,
     "end_time": "2024-03-13T15:39:56.445583",
     "exception": false,
     "start_time": "2024-03-13T15:39:55.099935",
     "status": "completed"
    },
    "tags": []
   },
   "outputs": [],
   "source": [
    "import pandas as pd\n",
    "pcos_non_inf= pd.read_excel(\"C:/Users/KHUSHI/Downloads/PCOS_data_without_infertility.xlsx\", sheet_name=\"Full_new\")\n",
    "pcos_non_inf.head()"
   ]
  },
  {
   "cell_type": "markdown",
   "id": "62bbf7b9",
   "metadata": {
    "papermill": {
     "duration": 0.027135,
     "end_time": "2024-03-13T15:39:56.497948",
     "exception": false,
     "start_time": "2024-03-13T15:39:56.470813",
     "status": "completed"
    },
    "tags": []
   },
   "source": [
    "<div style=\"background-color:#F0F4F7; border-radius:10px; padding:20px;\">\n",
    "    <h3 style=\"font-family: Arial, sans-serif; color:#2E4053; text-align:center;\">Data Preprocessing</h3>"
   ]
  },
  {
   "cell_type": "code",
   "execution_count": null,
   "id": "ee6dcf67",
   "metadata": {
    "papermill": {
     "duration": 0.066248,
     "end_time": "2024-03-13T15:39:56.594985",
     "exception": false,
     "start_time": "2024-03-13T15:39:56.528737",
     "status": "completed"
    },
    "tags": []
   },
   "outputs": [],
   "source": [
    "import pandas as pd\n",
    "\n",
    "# Load the data into a DataFrame\n",
    "pcos_inf = pd.read_csv(\"C:/Users/KHUSHI/OneDrive/Desktop/PCOS_infertility.csv\")\n",
    "\n",
    "# Check information about the DataFrame\n",
    "pcos_inf.info()\n",
    "df0= pcos_inf\n",
    "df0.info()"
   ]
  },
  {
   "cell_type": "code",
   "execution_count": null,
   "id": "8965ff0b",
   "metadata": {
    "papermill": {
     "duration": 0.047387,
     "end_time": "2024-03-13T15:39:56.673081",
     "exception": false,
     "start_time": "2024-03-13T15:39:56.625694",
     "status": "completed"
    },
    "tags": []
   },
   "outputs": [],
   "source": [
    "# name pcos_non_inf- df\n",
    "\n",
    "df1=pcos_non_inf\n",
    "\n",
    "df1.info()"
   ]
  },
  {
   "cell_type": "code",
   "execution_count": null,
   "id": "f20eb38e",
   "metadata": {
    "papermill": {
     "duration": 0.07102,
     "end_time": "2024-03-13T15:39:56.768395",
     "exception": false,
     "start_time": "2024-03-13T15:39:56.697375",
     "status": "completed"
    },
    "tags": []
   },
   "outputs": [],
   "source": [
    "# merge the two dataframes\n",
    "df = pd.merge(df1,df0, on='Patient File No.', suffixes=('','_x'),how='left')\n",
    "#Dropping the repeated features after merging\n",
    "df =df.drop([ 'Sl. No_x', 'PCOS (Y/N)_x', '  I   beta-HCG(mIU/mL)_x',\n",
    "       'II    beta-HCG(mIU/mL)_x', 'AMH(ng/mL)_x'], axis=1)\n",
    "df.head()"
   ]
  },
  {
   "cell_type": "code",
   "execution_count": null,
   "id": "6f82c050",
   "metadata": {
    "papermill": {
     "duration": 0.109439,
     "end_time": "2024-03-13T15:39:56.909236",
     "exception": false,
     "start_time": "2024-03-13T15:39:56.799797",
     "status": "completed"
    },
    "tags": []
   },
   "outputs": [],
   "source": [
    "#trim column names with extra spaces at start and end positions\n",
    "df = df.rename(columns=lambda x: x.strip()) \n",
    "df.info()"
   ]
  },
  {
   "cell_type": "code",
   "execution_count": null,
   "id": "40b6939a",
   "metadata": {
    "papermill": {
     "duration": 0.036695,
     "end_time": "2024-03-13T15:39:56.971562",
     "exception": false,
     "start_time": "2024-03-13T15:39:56.934867",
     "status": "completed"
    },
    "tags": []
   },
   "outputs": [],
   "source": [
    "# convert object columns to float type\n",
    "df[\"AMH(ng/mL)\"] = pd.to_numeric(df[\"AMH(ng/mL)\"], errors=\"coerce\") \n",
    "df[\"II    beta-HCG(mIU/mL)\"] = pd.to_numeric(df[\"II    beta-HCG(mIU/mL)\"], errors=\"coerce\") \n"
   ]
  },
  {
   "cell_type": "code",
   "execution_count": null,
   "id": "4e17d732",
   "metadata": {
    "papermill": {
     "duration": 0.037331,
     "end_time": "2024-03-13T15:39:57.034512",
     "exception": false,
     "start_time": "2024-03-13T15:39:56.997181",
     "status": "completed"
    },
    "tags": []
   },
   "outputs": [],
   "source": [
    "# drop all columns that may not be useful for our analysis\n",
    "\n",
    "df = df.drop(['Unnamed: 44'], axis = 1) \n",
    "df = df.drop(['Sl. No'], axis = 1) \n",
    "df = df.drop(['Patient File No.'], axis = 1) "
   ]
  },
  {
   "cell_type": "code",
   "execution_count": null,
   "id": "7d128187",
   "metadata": {
    "papermill": {
     "duration": 0.044863,
     "end_time": "2024-03-13T15:39:57.105076",
     "exception": false,
     "start_time": "2024-03-13T15:39:57.060213",
     "status": "completed"
    },
    "tags": []
   },
   "outputs": [],
   "source": [
    "df.info()"
   ]
  },
  {
   "cell_type": "code",
   "execution_count": null,
   "id": "ebb86fd5",
   "metadata": {
    "papermill": {
     "duration": 0.037894,
     "end_time": "2024-03-13T15:39:57.168406",
     "exception": false,
     "start_time": "2024-03-13T15:39:57.130512",
     "status": "completed"
    },
    "tags": []
   },
   "outputs": [],
   "source": [
    "# identify columns with missing data\n",
    "\n",
    "col_missing= df.columns[df.isna().any()].tolist()\n",
    "col_missing"
   ]
  },
  {
   "cell_type": "code",
   "execution_count": null,
   "id": "0af678b4",
   "metadata": {
    "papermill": {
     "duration": 0.037931,
     "end_time": "2024-03-13T15:39:57.282165",
     "exception": false,
     "start_time": "2024-03-13T15:39:57.244234",
     "status": "completed"
    },
    "tags": []
   },
   "outputs": [],
   "source": [
    "# Separate numeric columns from boolean columns\n",
    "\n",
    "# Get the columns with missing values excluding 'Fast food (Y/N)'\n",
    "col_missing_num = [col for col in df.columns[df.isna().any()].tolist() if col != 'Fast food (Y/N)']\n",
    "\n",
    "col_missing_boo = [col for col in df.columns[df.isna().any()].tolist() if col not in col_missing_num]\n",
    "\n",
    "print(col_missing_num)\n",
    "print(col_missing_boo)"
   ]
  },
  {
   "cell_type": "code",
   "execution_count": null,
   "id": "d7e4daac",
   "metadata": {
    "papermill": {
     "duration": 0.047381,
     "end_time": "2024-03-13T15:39:57.355357",
     "exception": false,
     "start_time": "2024-03-13T15:39:57.307976",
     "status": "completed"
    },
    "tags": []
   },
   "outputs": [],
   "source": [
    "\n",
    "# Impute numeric columns with median\n",
    "for col in col_missing_num:\n",
    "    df[col].fillna(df[col].median(), inplace=True)\n",
    "\n",
    "# Impute boolean columns with mode\n",
    "for col in col_missing_boo:\n",
    "    df[col].fillna(df[col].mode()[0], inplace=True)\n",
    "#verify\n",
    "df.isna().sum()\n"
   ]
  },
  {
   "cell_type": "markdown",
   "id": "21b0376f",
   "metadata": {
    "papermill": {
     "duration": 0.027017,
     "end_time": "2024-03-13T15:39:57.408501",
     "exception": false,
     "start_time": "2024-03-13T15:39:57.381484",
     "status": "completed"
    },
    "tags": []
   },
   "source": [
    "<div style=\"background-color:#F0F4F7; border-radius:10px; padding:20px;\">\n",
    "    <h3 style=\"font-family: Arial, sans-serif; color:#2E4053; text-align:center;\">Exploratory Data Analysis</h3>"
   ]
  },
  {
   "cell_type": "code",
   "execution_count": null,
   "id": "d0da54a9",
   "metadata": {
    "papermill": {
     "duration": 0.035938,
     "end_time": "2024-03-13T15:39:57.470517",
     "exception": false,
     "start_time": "2024-03-13T15:39:57.434579",
     "status": "completed"
    },
    "tags": []
   },
   "outputs": [],
   "source": [
    "sns.set_style(\"darkgrid\")\n",
    "from warnings import filterwarnings\n",
    "filterwarnings(\"ignore\")\n"
   ]
  },
  {
   "cell_type": "code",
   "execution_count": null,
   "id": "85e925c3",
   "metadata": {
    "papermill": {
     "duration": 0.135985,
     "end_time": "2024-03-13T15:39:57.632375",
     "exception": false,
     "start_time": "2024-03-13T15:39:57.496390",
     "status": "completed"
    },
    "tags": []
   },
   "outputs": [],
   "source": [
    "df.describe()"
   ]
  },
  {
   "cell_type": "code",
   "execution_count": null,
   "id": "184c86d3",
   "metadata": {
    "papermill": {
     "duration": 0.057747,
     "end_time": "2024-03-13T15:39:57.716623",
     "exception": false,
     "start_time": "2024-03-13T15:39:57.658876",
     "status": "completed"
    },
    "tags": []
   },
   "outputs": [],
   "source": [
    "# Save file as pcos.csv  \n",
    "df.to_csv('pcos.csv', index=False)"
   ]
  },
  {
   "cell_type": "code",
   "execution_count": null,
   "id": "86320a10",
   "metadata": {
    "papermill": {
     "duration": 0.054288,
     "end_time": "2024-03-13T15:39:57.796962",
     "exception": false,
     "start_time": "2024-03-13T15:39:57.742674",
     "status": "completed"
    },
    "tags": []
   },
   "outputs": [],
   "source": [
    "# Define the age boundaries for the bins\n",
    "age_bins = [20, 25, 30, 35, 40, 45, 50]\n",
    "\n",
    "# Create a new column 'Age Group' with the bins\n",
    "df['Age Group'] = pd.cut(df['Age (yrs)'], bins=age_bins)\n",
    "df.filtered= df.loc[:,['Age Group', 'Age (yrs)']]\n",
    "df.filtered.head()"
   ]
  },
  {
   "cell_type": "code",
   "execution_count": null,
   "id": "793578fb",
   "metadata": {
    "papermill": {
     "duration": 0.665387,
     "end_time": "2024-03-13T15:39:58.489186",
     "exception": false,
     "start_time": "2024-03-13T15:39:57.823799",
     "status": "completed"
    },
    "tags": []
   },
   "outputs": [],
   "source": [
    "import numpy as np \n",
    "import pandas as pd\n",
    "import matplotlib.pyplot as plt\n",
    "import seaborn as sns\n",
    "sns.countplot(x=\"Age Group\", hue=\"PCOS (Y/N)\", data=df)\n",
    "plt.xlabel(\"Age Group\")\n",
    "plt.ylabel(\"Count\")\n",
    "plt.title(\"PCOS Diagnosis by Age Group\")\n",
    "plt.xticks(rotation=45)\n",
    "plt.legend(title=\"PCOS Diagnosis\", loc=\"upper right\")\n",
    "plt.tight_layout()\n",
    "plt.show()"
   ]
  },
  {
   "cell_type": "code",
   "execution_count": null,
   "id": "85997405",
   "metadata": {
    "papermill": {
     "duration": 0.057421,
     "end_time": "2024-03-13T15:39:58.574733",
     "exception": false,
     "start_time": "2024-03-13T15:39:58.517312",
     "status": "completed"
    },
    "tags": []
   },
   "outputs": [],
   "source": [
    "# Calculate proportions each age group\n",
    "proportions = df.groupby('Age Group')['PCOS (Y/N)'].value_counts(normalize=True).reset_index(name='Proportion')\n",
    "proportions"
   ]
  },
  {
   "cell_type": "code",
   "execution_count": null,
   "id": "c3eb8e45",
   "metadata": {
    "papermill": {
     "duration": 0.587274,
     "end_time": "2024-03-13T15:39:59.189611",
     "exception": false,
     "start_time": "2024-03-13T15:39:58.602337",
     "status": "completed"
    },
    "tags": []
   },
   "outputs": [],
   "source": [
    "sns.barplot(x='Age Group', y='Proportion', hue='PCOS (Y/N)', data=proportions)\n",
    "plt.xlabel(\"Age Group\")\n",
    "plt.ylabel(\"Proportion of PCOS Diagnosis\")\n",
    "plt.title(\"Proportion of PCOS Diagnosis by Age Group\")\n",
    "plt.xticks(rotation=45)  # Rotate x-axis labels for better readability\n",
    "plt.legend(title=\"PCOS Diagnosis\", loc=\"upper right\")\n",
    "plt.tight_layout()\n",
    "plt.show()"
   ]
  },
  {
   "cell_type": "markdown",
   "id": "18ac653f",
   "metadata": {
    "papermill": {
     "duration": 0.027906,
     "end_time": "2024-03-13T15:39:59.245600",
     "exception": false,
     "start_time": "2024-03-13T15:39:59.217694",
     "status": "completed"
    },
    "tags": []
   },
   "source": [
    ">PCOS diagnosis rates seem disproportionately high in the 20-25 and 45-50 age demographics.\n",
    "\n",
    "> Note: The data for women aged 45-50 is insufficient to establish a reliable trend."
   ]
  },
  {
   "cell_type": "code",
   "execution_count": null,
   "id": "0e44ae0c",
   "metadata": {
    "papermill": {
     "duration": 1.711009,
     "end_time": "2024-03-13T15:40:00.984273",
     "exception": false,
     "start_time": "2024-03-13T15:39:59.273264",
     "status": "completed"
    },
    "tags": []
   },
   "outputs": [],
   "source": [
    "numeric_columns = df.select_dtypes(include='number').columns.tolist()\n",
    "df_numeric = df[numeric_columns]\n",
    "\n",
    "corr = df_numeric.corr()\n",
    "\n",
    "cmap = sns.color_palette(\"colorblind\")\n",
    "plt.figure(figsize=(18,18))\n",
    "sns.heatmap(corr, annot=False, cmap=cmap)\n",
    "plt.title(\"Correlation Matrix Heatmap of All Features\")\n",
    "plt.show()\n"
   ]
  },
  {
   "cell_type": "code",
   "execution_count": null,
   "id": "6c950420",
   "metadata": {
    "papermill": {
     "duration": 0.048715,
     "end_time": "2024-03-13T15:40:01.064107",
     "exception": false,
     "start_time": "2024-03-13T15:40:01.015392",
     "status": "completed"
    },
    "tags": []
   },
   "outputs": [],
   "source": [
    "corr[\"PCOS (Y/N)\"].sort_values(ascending=False)"
   ]
  },
  {
   "cell_type": "code",
   "execution_count": null,
   "id": "fb712bc8",
   "metadata": {
    "papermill": {
     "duration": 0.041458,
     "end_time": "2024-03-13T15:40:01.205792",
     "exception": false,
     "start_time": "2024-03-13T15:40:01.164334",
     "status": "completed"
    },
    "tags": []
   },
   "outputs": [],
   "source": [
    "column_names = df.columns.tolist()\n",
    "print(column_names)"
   ]
  },
  {
   "cell_type": "code",
   "execution_count": null,
   "id": "a0a075ac",
   "metadata": {
    "papermill": {
     "duration": 0.044315,
     "end_time": "2024-03-13T15:40:01.282771",
     "exception": false,
     "start_time": "2024-03-13T15:40:01.238456",
     "status": "completed"
    },
    "tags": []
   },
   "outputs": [],
   "source": [
    "Clinical_measures = df.loc[:,['PCOS (Y/N)','Cycle(R/I)', 'Cycle length(days)','Pulse rate(bpm)',\n",
    "                           'RR (breaths/min)', 'Hb(g/dl)','Follicle No. (L)', 'Follicle No. (R)',\n",
    "                           'Avg. F size (L) (mm)', 'Avg. F size (R) (mm)', 'Endometrium (mm)',\n",
    "                           'Blood Group','BP _Systolic (mmHg)', 'BP _Diastolic (mmHg)']]"
   ]
  },
  {
   "cell_type": "code",
   "execution_count": null,
   "id": "d99a65e1",
   "metadata": {
    "papermill": {
     "duration": 0.7657,
     "end_time": "2024-03-13T15:40:02.081813",
     "exception": false,
     "start_time": "2024-03-13T15:40:01.316113",
     "status": "completed"
    },
    "tags": []
   },
   "outputs": [],
   "source": [
    "plt.figure(figsize=(6,4))\n",
    "sns.heatmap(Clinical_measures.corr(), annot=False, cmap=cmap)\n",
    "plt.title(\"Correlation Matrix Heatmap of Clinical measures\")\n",
    "plt.show()"
   ]
  },
  {
   "cell_type": "code",
   "execution_count": null,
   "id": "57b04b9d",
   "metadata": {
    "papermill": {
     "duration": 0.049927,
     "end_time": "2024-03-13T15:40:02.168084",
     "exception": false,
     "start_time": "2024-03-13T15:40:02.118157",
     "status": "completed"
    },
    "tags": []
   },
   "outputs": [],
   "source": [
    "Clinical_measures.corr()[\"PCOS (Y/N)\"].sort_values(ascending=False)"
   ]
  },
  {
   "cell_type": "code",
   "execution_count": null,
   "id": "1ac3c95e",
   "metadata": {
    "papermill": {
     "duration": 2.644692,
     "end_time": "2024-03-13T15:40:04.847695",
     "exception": false,
     "start_time": "2024-03-13T15:40:02.203003",
     "status": "completed"
    },
    "tags": []
   },
   "outputs": [],
   "source": [
    "columns_to_exclude = ['Cycle(R/I)', 'Blood Group']\n",
    "\n",
    "columns_to_include = [col for col in Clinical_measures.columns if col not in columns_to_exclude]\n",
    "for y in columns_to_include:\n",
    "      if y != \"PCOS (Y/N)\":\n",
    "        sns.boxplot(y=y, x=\"PCOS (Y/N)\", data=Clinical_measures)\n",
    "        plt.show()\n"
   ]
  },
  {
   "cell_type": "markdown",
   "id": "4ba134ef",
   "metadata": {
    "papermill": {
     "duration": 0.036123,
     "end_time": "2024-03-13T15:40:04.920297",
     "exception": false,
     "start_time": "2024-03-13T15:40:04.884174",
     "status": "completed"
    },
    "tags": []
   },
   "source": [
    "> From all clinical measures, it looks like features; Follicle No. (R), Follicle No. (L), and  Cycle(R/I) have a significant bearing to PCOS diagnosis \n"
   ]
  },
  {
   "cell_type": "code",
   "execution_count": null,
   "id": "87545474",
   "metadata": {
    "papermill": {
     "duration": 1.243054,
     "end_time": "2024-03-13T15:40:06.199743",
     "exception": false,
     "start_time": "2024-03-13T15:40:04.956689",
     "status": "completed"
    },
    "tags": []
   },
   "outputs": [],
   "source": [
    "# Length of menstrual cycle 'Cycle length(days)'' in PCOS vs Normal diagnosis \n",
    "\n",
    "ax=sns.lmplot(data=df,x=\"Age (yrs)\",y=\"Cycle length(days)\", hue=\"PCOS (Y/N)\")\n",
    "plt.show(ax)"
   ]
  },
  {
   "cell_type": "code",
   "execution_count": null,
   "id": "c30bbbe7",
   "metadata": {
    "papermill": {
     "duration": 1.680166,
     "end_time": "2024-03-13T15:40:07.920755",
     "exception": false,
     "start_time": "2024-03-13T15:40:06.240589",
     "status": "completed"
    },
    "tags": []
   },
   "outputs": [],
   "source": [
    "fig, (ax1, ax2, ax3) = plt.subplots(3, 1, figsize=(10, 15))\n",
    "\n",
    "sns.scatterplot(data=df, x=\"Age (yrs)\", y=\"Cycle(R/I)\", hue=\"PCOS (Y/N)\", ax=ax1)\n",
    "ax1.set_title('Cycle(R/I) vs Age')\n",
    "\n",
    "sns.scatterplot(data=df, x=\"Age (yrs)\", y=\"Follicle No. (R)\", hue=\"PCOS (Y/N)\", ax=ax2)\n",
    "ax2.set_title('Follicle No. (R) vs Age')\n",
    "sns.scatterplot(data=df, x=\"Age (yrs)\", y=\"Follicle No. (L)\", hue=\"PCOS (Y/N)\", ax=ax3)\n",
    "ax3.set_title('Follicle No. (L) vs Age')\n",
    "\n",
    "plt.tight_layout()\n",
    "\n",
    "plt.show()"
   ]
  },
  {
   "cell_type": "markdown",
   "id": "e64bbdcb",
   "metadata": {
    "papermill": {
     "duration": 0.043974,
     "end_time": "2024-03-13T15:40:08.007895",
     "exception": false,
     "start_time": "2024-03-13T15:40:07.963921",
     "status": "completed"
    },
    "tags": []
   },
   "source": [
    "> From all clinical measures, it looks like features; Follicle No. (R), Follicle No. (L), and  Cycle(R/I) have a significant bearing to PCOS diagnosis regardless of the ages. Most PCOS diagnosed patients had significantly high numbers of folicles in left and right sides."
   ]
  },
  {
   "cell_type": "code",
   "execution_count": null,
   "id": "cd61e5e8",
   "metadata": {
    "papermill": {
     "duration": 0.727589,
     "end_time": "2024-03-13T15:40:08.777415",
     "exception": false,
     "start_time": "2024-03-13T15:40:08.049826",
     "status": "completed"
    },
    "scrolled": true,
    "tags": []
   },
   "outputs": [],
   "source": [
    "#  Blood group\n",
    "g = sns.catplot(x=\"Blood Group\", y=\"PCOS (Y/N)\", \n",
    "                data=Clinical_measures, kind=\"bar\")\n",
    "\n",
    "plt.show()"
   ]
  },
  {
   "cell_type": "markdown",
   "id": "69081cb7",
   "metadata": {
    "papermill": {
     "duration": 0.041082,
     "end_time": "2024-03-13T15:40:08.858912",
     "exception": false,
     "start_time": "2024-03-13T15:40:08.817830",
     "status": "completed"
    },
    "tags": []
   },
   "source": [
    "> No evidence for blood group in PCOS detection."
   ]
  },
  {
   "cell_type": "code",
   "execution_count": null,
   "id": "2fdba645",
   "metadata": {
    "papermill": {
     "duration": 0.44663,
     "end_time": "2024-03-13T15:40:09.346222",
     "exception": false,
     "start_time": "2024-03-13T15:40:08.899592",
     "status": "completed"
    },
    "scrolled": true,
    "tags": []
   },
   "outputs": [],
   "source": [
    "# Blood group\n",
    "\n",
    "g = sns.catplot(x='Cycle(R/I)', y=\"PCOS (Y/N)\", \n",
    "                data=Clinical_measures, kind=\"bar\")\n",
    "\n",
    "plt.show()"
   ]
  },
  {
   "cell_type": "markdown",
   "id": "415da74e",
   "metadata": {
    "papermill": {
     "duration": 0.041479,
     "end_time": "2024-03-13T15:40:09.428811",
     "exception": false,
     "start_time": "2024-03-13T15:40:09.387332",
     "status": "completed"
    },
    "tags": []
   },
   "source": [
    "> The feature Cylcle(R/I) is not immediately clear from this dataset, but it might stand for \"Regular/Irregular\" or \"Regular/Interval.\" In the context of PCOS, it likely refers to the regularity of menstrual cycles. \"Regular\" cycles occur at predictable intervals, while \"Irregular\" cycles occur at unpredictable intervals or have abnormal characteristics.\n",
    "\n",
    "> Therefore, \"Cycle (R/I)\" may indicate whether the individual's menstrual cycles are regular or irregular.\n"
   ]
  },
  {
   "cell_type": "code",
   "execution_count": null,
   "id": "6bf1d61d",
   "metadata": {
    "papermill": {
     "duration": 0.05332,
     "end_time": "2024-03-13T15:40:09.525429",
     "exception": false,
     "start_time": "2024-03-13T15:40:09.472109",
     "status": "completed"
    },
    "tags": []
   },
   "outputs": [],
   "source": [
    "Hormones = df.loc[:,['PCOS (Y/N)','I   beta-HCG(mIU/mL)','II    beta-HCG(mIU/mL)','FSH(mIU/mL)','LH(mIU/mL)','FSH/LH',\n",
    "                    'AMH(ng/mL)','PRL(ng/mL)','PRG(ng/mL)','Vit D3 (ng/mL)','TSH (mIU/L)']]"
   ]
  },
  {
   "cell_type": "code",
   "execution_count": null,
   "id": "135a7afb",
   "metadata": {
    "papermill": {
     "duration": 0.574132,
     "end_time": "2024-03-13T15:40:10.140366",
     "exception": false,
     "start_time": "2024-03-13T15:40:09.566234",
     "status": "completed"
    },
    "tags": []
   },
   "outputs": [],
   "source": [
    "plt.figure(figsize=(6,4))\n",
    "sns.heatmap(Hormones.corr(), annot=False, cmap=cmap)\n",
    "plt.title(\"Correlation Matrix Heatmap of Clinical measures\")\n",
    "plt.show()"
   ]
  },
  {
   "cell_type": "code",
   "execution_count": null,
   "id": "a494250d",
   "metadata": {
    "papermill": {
     "duration": 0.055867,
     "end_time": "2024-03-13T15:40:10.239247",
     "exception": false,
     "start_time": "2024-03-13T15:40:10.183380",
     "status": "completed"
    },
    "tags": []
   },
   "outputs": [],
   "source": [
    "Hormones.corr()[\"PCOS (Y/N)\"].sort_values(ascending=False)"
   ]
  },
  {
   "cell_type": "code",
   "execution_count": null,
   "id": "ebfb692d",
   "metadata": {
    "papermill": {
     "duration": 156.341412,
     "end_time": "2024-03-13T15:42:46.622404",
     "exception": false,
     "start_time": "2024-03-13T15:40:10.280992",
     "status": "completed"
    },
    "tags": []
   },
   "outputs": [],
   "source": [
    "for y in Hormones:\n",
    "        if y != \"PCOS (Y/N)\":\n",
    "            sns.boxenplot(y=y, x=\"PCOS (Y/N)\", data=Hormones)\n",
    "            sns.swarmplot(y=y, x=\"PCOS (Y/N)\", data=Hormones,alpha=0.5)\n",
    "            plt.show()"
   ]
  },
  {
   "cell_type": "markdown",
   "id": "09ba973a",
   "metadata": {
    "papermill": {
     "duration": 0.047658,
     "end_time": "2024-03-13T15:42:46.717924",
     "exception": false,
     "start_time": "2024-03-13T15:42:46.670266",
     "status": "completed"
    },
    "tags": []
   },
   "source": [
    "> For hormones, it seems AMH has a slight influence to PCOS detection."
   ]
  },
  {
   "cell_type": "code",
   "execution_count": null,
   "id": "438e20cc",
   "metadata": {
    "papermill": {
     "duration": 0.058392,
     "end_time": "2024-03-13T15:42:46.824146",
     "exception": false,
     "start_time": "2024-03-13T15:42:46.765754",
     "status": "completed"
    },
    "tags": []
   },
   "outputs": [],
   "source": [
    "Physical_attributes= df.loc[:,['PCOS (Y/N)','Weight (Kg)', 'Height(Cm)', 'BMI','Hip(inch)', 'Waist(inch)', 'Waist:Hip Ratio'\n",
    "                               ]]"
   ]
  },
  {
   "cell_type": "code",
   "execution_count": null,
   "id": "75584574",
   "metadata": {
    "papermill": {
     "duration": 0.513662,
     "end_time": "2024-03-13T15:42:47.385967",
     "exception": false,
     "start_time": "2024-03-13T15:42:46.872305",
     "status": "completed"
    },
    "tags": []
   },
   "outputs": [],
   "source": [
    "# Create a heatmap for Physical_attributes\n",
    "plt.figure(figsize=(6,4))\n",
    "sns.heatmap(Physical_attributes.corr(), annot=False, cmap=cmap)\n",
    "plt.title(\"Correlation Matrix Heatmap of Clinical measures\")\n",
    "plt.show()"
   ]
  },
  {
   "cell_type": "code",
   "execution_count": null,
   "id": "18e5e690",
   "metadata": {
    "papermill": {
     "duration": 0.063141,
     "end_time": "2024-03-13T15:42:47.498473",
     "exception": false,
     "start_time": "2024-03-13T15:42:47.435332",
     "status": "completed"
    },
    "tags": []
   },
   "outputs": [],
   "source": [
    "Physical_attributes.corr()[\"PCOS (Y/N)\"].sort_values(ascending=False)"
   ]
  },
  {
   "cell_type": "code",
   "execution_count": null,
   "id": "8342fcbd",
   "metadata": {
    "papermill": {
     "duration": 13.29078,
     "end_time": "2024-03-13T15:43:00.839008",
     "exception": false,
     "start_time": "2024-03-13T15:42:47.548228",
     "status": "completed"
    },
    "tags": []
   },
   "outputs": [],
   "source": [
    "#Plotting Box plot for the Physical_attributes\n",
    "for y in Physical_attributes:\n",
    "    if y !=\"PCOS (Y/N)\":\n",
    "        sns.swarmplot(y=y, x=\"PCOS (Y/N)\", data=Physical_attributes, alpha=0.5)\n",
    "        sns.boxenplot(y=y, x=\"PCOS (Y/N)\", data=Physical_attributes)\n",
    "        plt.show()"
   ]
  },
  {
   "cell_type": "markdown",
   "id": "af7902bb",
   "metadata": {
    "papermill": {
     "duration": 0.051915,
     "end_time": "2024-03-13T15:43:00.943318",
     "exception": false,
     "start_time": "2024-03-13T15:43:00.891403",
     "status": "completed"
    },
    "tags": []
   },
   "source": [
    "> It looks like there is no significant evidence of any influence of physical attributes to PCOS diagnosis in this data"
   ]
  },
  {
   "cell_type": "code",
   "execution_count": null,
   "id": "a6091983",
   "metadata": {
    "papermill": {
     "duration": 0.062526,
     "end_time": "2024-03-13T15:43:01.058824",
     "exception": false,
     "start_time": "2024-03-13T15:43:00.996298",
     "status": "completed"
    },
    "tags": []
   },
   "outputs": [],
   "source": [
    "Habits= df.loc[:,['PCOS (Y/N)','Fast food (Y/N)', 'Reg.Exercise(Y/N)','No. of aborptions']]"
   ]
  },
  {
   "cell_type": "code",
   "execution_count": null,
   "id": "91313541",
   "metadata": {
    "papermill": {
     "duration": 0.448477,
     "end_time": "2024-03-13T15:43:01.560139",
     "exception": false,
     "start_time": "2024-03-13T15:43:01.111662",
     "status": "completed"
    },
    "tags": []
   },
   "outputs": [],
   "source": [
    "# Create a heatmap for Habits\n",
    "plt.figure(figsize=(6,4))\n",
    "sns.heatmap(Habits.corr(), annot=False, cmap=cmap)\n",
    "plt.title(\"Correlation Matrix Heatmap of Clinical measures\")\n",
    "plt.show()"
   ]
  },
  {
   "cell_type": "code",
   "execution_count": 366,
   "id": "9697c307",
   "metadata": {
    "papermill": {
     "duration": 0.067468,
     "end_time": "2024-03-13T15:43:01.681753",
     "exception": false,
     "start_time": "2024-03-13T15:43:01.614285",
     "status": "completed"
    },
    "tags": []
   },
   "outputs": [
    {
     "data": {
      "text/plain": [
       "PCOS (Y/N)           1.000000\n",
       "Fast food (Y/N)      0.376183\n",
       "Reg.Exercise(Y/N)    0.065337\n",
       "No. of aborptions   -0.057158\n",
       "Name: PCOS (Y/N), dtype: float64"
      ]
     },
     "execution_count": 366,
     "metadata": {},
     "output_type": "execute_result"
    }
   ],
   "source": [
    "Habits.corr()[\"PCOS (Y/N)\"].sort_values(ascending=False)"
   ]
  },
  {
   "cell_type": "code",
   "execution_count": 367,
   "id": "1de39ecc",
   "metadata": {
    "papermill": {
     "duration": 0.686553,
     "end_time": "2024-03-13T15:43:02.421789",
     "exception": false,
     "start_time": "2024-03-13T15:43:01.735236",
     "status": "completed"
    },
    "scrolled": true,
    "tags": []
   },
   "outputs": [
    {
     "data": {
      "image/png": "[encoded data removed]",
      "text/plain": [
       "<Figure size 640x480 with 1 Axes>"
      ]
     },
     "metadata": {},
     "output_type": "display_data"
    },
    {
     "data": {
      "image/png": "[encoded data removed]",
      "text/plain": [
       "<Figure size 640x480 with 1 Axes>"
      ]
     },
     "metadata": {},
     "output_type": "display_data"
    }
   ],
   "source": [
    "for y in Habits:\n",
    "    if y != \"PCOS (Y/N)\":\n",
    "        if y !=\"No. of aborptions\":\n",
    "            sns.barplot(y= y, x = \"PCOS (Y/N)\", data = Habits)\n",
    "            plt.show()"
   ]
  },
  {
   "cell_type": "markdown",
   "id": "339cc634",
   "metadata": {
    "papermill": {
     "duration": 0.054004,
     "end_time": "2024-03-13T15:43:02.530744",
     "exception": false,
     "start_time": "2024-03-13T15:43:02.476740",
     "status": "completed"
    },
    "tags": []
   },
   "source": [
    "> Except for Fast Foods intake, It seems there is no significant evidence of any influence due to habits on PCOS diagnosis in this data"
   ]
  },
  {
   "cell_type": "code",
   "execution_count": 369,
   "id": "19b203a2",
   "metadata": {
    "papermill": {
     "duration": 0.063771,
     "end_time": "2024-03-13T15:43:02.648407",
     "exception": false,
     "start_time": "2024-03-13T15:43:02.584636",
     "status": "completed"
    },
    "tags": []
   },
   "outputs": [],
   "source": [
    "Clinical_symptoms= df.loc[:,['PCOS (Y/N)','Hair loss(Y/N)', 'Pimples(Y/N)','hair growth(Y/N)',\n",
    "                             'Skin darkening (Y/N)','Pregnant(Y/N)','Weight gain(Y/N)']]"
   ]
  },
  {
   "cell_type": "code",
   "execution_count": 370,
   "id": "acb4998c",
   "metadata": {
    "papermill": {
     "duration": 0.525598,
     "end_time": "2024-03-13T15:43:03.227378",
     "exception": false,
     "start_time": "2024-03-13T15:43:02.701780",
     "status": "completed"
    },
    "tags": []
   },
   "outputs": [
    {
     "data": {
      "image/png": "[encoded data removed]",
      "text/plain": [
       "<Figure size 600x400 with 2 Axes>"
      ]
     },
     "metadata": {},
     "output_type": "display_data"
    }
   ],
   "source": [
    "# Create a heatmap for Clinical_symptoms\n",
    "plt.figure(figsize=(6,4))\n",
    "sns.heatmap(Clinical_symptoms.corr(), annot=False, cmap=cmap)\n",
    "plt.title(\"Correlation Matrix Heatmap of Clinical measures\")\n",
    "plt.show()"
   ]
  },
  {
   "cell_type": "code",
   "execution_count": 371,
   "id": "03a4fb12",
   "metadata": {
    "papermill": {
     "duration": 0.069495,
     "end_time": "2024-03-13T15:43:03.351242",
     "exception": false,
     "start_time": "2024-03-13T15:43:03.281747",
     "status": "completed"
    },
    "tags": []
   },
   "outputs": [
    {
     "data": {
      "text/plain": [
       "PCOS (Y/N)              1.000000\n",
       "Skin darkening (Y/N)    0.475733\n",
       "hair growth(Y/N)        0.464667\n",
       "Weight gain(Y/N)        0.441047\n",
       "Pimples(Y/N)            0.286077\n",
       "Hair loss(Y/N)          0.172879\n",
       "Pregnant(Y/N)          -0.027565\n",
       "Name: PCOS (Y/N), dtype: float64"
      ]
     },
     "execution_count": 371,
     "metadata": {},
     "output_type": "execute_result"
    }
   ],
   "source": [
    "Clinical_symptoms.corr()[\"PCOS (Y/N)\"].sort_values(ascending=False)"
   ]
  },
  {
   "cell_type": "code",
   "execution_count": 372,
   "id": "b05fed59",
   "metadata": {
    "papermill": {
     "duration": 1.890578,
     "end_time": "2024-03-13T15:43:05.296618",
     "exception": false,
     "start_time": "2024-03-13T15:43:03.406040",
     "status": "completed"
    },
    "tags": []
   },
   "outputs": [
    {
     "data": {
      "image/png": "[encoded data removed]",
      "text/plain": [
       "<Figure size 640x480 with 1 Axes>"
      ]
     },
     "metadata": {},
     "output_type": "display_data"
    },
    {
     "data": {
      "image/png": "[encoded data removed]",
      "text/plain": [
       "<Figure size 640x480 with 1 Axes>"
      ]
     },
     "metadata": {},
     "output_type": "display_data"
    },
    {
     "data": {
      "image/png": "[encoded data removed]",
      "text/plain": [
       "<Figure size 640x480 with 1 Axes>"
      ]
     },
     "metadata": {},
     "output_type": "display_data"
    },
    {
     "data": {
      "image/png": "[encoded data removed]",
      "text/plain": [
       "<Figure size 640x480 with 1 Axes>"
      ]
     },
     "metadata": {},
     "output_type": "display_data"
    },
    {
     "data": {
      "image/png": "[encoded data removed]",
      "text/plain": [
       "<Figure size 640x480 with 1 Axes>"
      ]
     },
     "metadata": {},
     "output_type": "display_data"
    },
    {
     "data": {
      "image/png": "[encoded data removed]",
      "text/plain": [
       "<Figure size 640x480 with 1 Axes>"
      ]
     },
     "metadata": {},
     "output_type": "display_data"
    }
   ],
   "source": [
    "#Plotting barplot for Clinical_symptoms\n",
    "for x in Clinical_symptoms:\n",
    "    if x != \"PCOS (Y/N)\":\n",
    "        sns.barplot(x= x, y = \"PCOS (Y/N)\", data = Clinical_symptoms)\n",
    "        plt.show()"
   ]
  },
  {
   "cell_type": "markdown",
   "id": "9c3784f9",
   "metadata": {
    "papermill": {
     "duration": 0.056922,
     "end_time": "2024-03-13T15:43:05.411369",
     "exception": false,
     "start_time": "2024-03-13T15:43:05.354447",
     "status": "completed"
    },
    "tags": []
   },
   "source": [
    "> Skin darkeing, hair loss and weight gain seem to be the most common symptoms associated with PCOS diagnosed individuals"
   ]
  },
  {
   "cell_type": "markdown",
   "id": "cf2e0cab",
   "metadata": {
    "papermill": {
     "duration": 0.057214,
     "end_time": "2024-03-13T15:43:05.526160",
     "exception": false,
     "start_time": "2024-03-13T15:43:05.468946",
     "status": "completed"
    },
    "tags": []
   },
   "source": [
    "<div style=\"background-color: #F0F4F7; border-radius: 10px; padding: 20px;\">\n",
    "    <h3 style=\"font-family: Arial, sans-serif; color: #2E4053; text-align: center;\">Model Building</h3>\n",
    "</div>"
   ]
  },
  {
   "cell_type": "code",
   "execution_count": 375,
   "id": "d6364320",
   "metadata": {
    "papermill": {
     "duration": 0.072266,
     "end_time": "2024-03-13T15:43:05.655792",
     "exception": false,
     "start_time": "2024-03-13T15:43:05.583526",
     "status": "completed"
    },
    "tags": []
   },
   "outputs": [],
   "source": [
    "#Create the features (X)and target(y)\n",
    "\n",
    "X=df.drop([\"PCOS (Y/N)\",\"Age Group\"],axis = 1) # drop the age group category column\n",
    "y=df[\"PCOS (Y/N)\"]\n",
    "\n",
    "#Split the data into test set 30% and training set 70%\n",
    "\n",
    "X_train,X_test, y_train, y_test = train_test_split(X,y, test_size=0.3,random_state=1) "
   ]
  },
  {
   "cell_type": "markdown",
   "id": "27822581",
   "metadata": {
    "papermill": {
     "duration": 0.057172,
     "end_time": "2024-03-13T15:43:05.770991",
     "exception": false,
     "start_time": "2024-03-13T15:43:05.713819",
     "status": "completed"
    },
    "tags": []
   },
   "source": [
    "<div style=\"background-color: #F0F4F7; border-radius: 10px; padding: 20px;\">\n",
    "    <h4 style=\"font-family: Arial, sans-serif; color: #2E4053; text-align: center;\">Classification using Linear Models</h4>\n",
    "</div>"
   ]
  },
  {
   "cell_type": "code",
   "execution_count": 377,
   "id": "e0954139",
   "metadata": {
    "papermill": {
     "duration": 0.368475,
     "end_time": "2024-03-13T15:43:06.196469",
     "exception": false,
     "start_time": "2024-03-13T15:43:05.827994",
     "status": "completed"
    },
    "scrolled": true,
    "tags": []
   },
   "outputs": [
    {
     "name": "stdout",
     "output_type": "stream",
     "text": [
      "Evaluating Logistic Regression:\n",
      "Accuracy of Logistic Regression Classifier on test set: 0.87\n",
      "\n",
      "The confusion Matrix is : \n",
      " [[107   6]\n",
      " [ 15  35]]\n",
      "\n",
      "The evaluation parameters are thus : \n",
      "               precision    recall  f1-score   support\n",
      "\n",
      "           0       0.88      0.95      0.91       113\n",
      "           1       0.85      0.70      0.77        50\n",
      "\n",
      "    accuracy                           0.87       163\n",
      "   macro avg       0.87      0.82      0.84       163\n",
      "weighted avg       0.87      0.87      0.87       163\n",
      "\n",
      "==================================================\n",
      "Evaluating Ridge Classifier:\n",
      "Accuracy of Ridge Classifier Classifier on test set: 0.90\n",
      "\n",
      "The confusion Matrix is : \n",
      " [[106   7]\n",
      " [ 10  40]]\n",
      "\n",
      "The evaluation parameters are thus : \n",
      "               precision    recall  f1-score   support\n",
      "\n",
      "           0       0.91      0.94      0.93       113\n",
      "           1       0.85      0.80      0.82        50\n",
      "\n",
      "    accuracy                           0.90       163\n",
      "   macro avg       0.88      0.87      0.88       163\n",
      "weighted avg       0.89      0.90      0.89       163\n",
      "\n",
      "==================================================\n",
      "Evaluating Stochastic Gradient Descent:\n",
      "Accuracy of Stochastic Gradient Descent Classifier on test set: 0.57\n",
      "\n",
      "The confusion Matrix is : \n",
      " [[83 30]\n",
      " [40 10]]\n",
      "\n",
      "The evaluation parameters are thus : \n",
      "               precision    recall  f1-score   support\n",
      "\n",
      "           0       0.67      0.73      0.70       113\n",
      "           1       0.25      0.20      0.22        50\n",
      "\n",
      "    accuracy                           0.57       163\n",
      "   macro avg       0.46      0.47      0.46       163\n",
      "weighted avg       0.54      0.57      0.56       163\n",
      "\n",
      "==================================================\n",
      "Evaluating Linear SVM:\n",
      "Accuracy of Linear SVM Classifier on test set: 0.77\n",
      "\n",
      "The confusion Matrix is : \n",
      " [[87 26]\n",
      " [12 38]]\n",
      "\n",
      "The evaluation parameters are thus : \n",
      "               precision    recall  f1-score   support\n",
      "\n",
      "           0       0.88      0.77      0.82       113\n",
      "           1       0.59      0.76      0.67        50\n",
      "\n",
      "    accuracy                           0.77       163\n",
      "   macro avg       0.74      0.76      0.74       163\n",
      "weighted avg       0.79      0.77      0.77       163\n",
      "\n",
      "==================================================\n"
     ]
    }
   ],
   "source": [
    "from sklearn.linear_model import LogisticRegression, RidgeClassifier, SGDClassifier\n",
    "from sklearn.svm import LinearSVC\n",
    "from sklearn.metrics import confusion_matrix, classification_report\n",
    "from sklearn.model_selection import train_test_split\n",
    "import pandas as pd\n",
    "\n",
    "# Define a list of linear classifiers\n",
    "classifiers = {\n",
    "    \"Logistic Regression\": LogisticRegression(),\n",
    "    \"Ridge Classifier\": RidgeClassifier(),\n",
    "    \"Stochastic Gradient Descent\": SGDClassifier(),\n",
    "    \"Linear SVM\": LinearSVC()\n",
    "}\n",
    "\n",
    "\n",
    "for name, classifier in classifiers.items():\n",
    "    print(f\"Evaluating {name}:\")\n",
    "    classifier.fit(X_train, y_train)\n",
    "    y_pred = classifier.predict(X_test)\n",
    "    accuracy = classifier.score(X_test, y_test)\n",
    "    print(f\"Accuracy of {name} Classifier on test set: {accuracy:.2f}\")\n",
    "\n",
    "    conf_matrix = confusion_matrix(y_test, y_pred)\n",
    "    print('\\nThe confusion Matrix is : \\n', conf_matrix)\n",
    "\n",
    "    print('\\nThe evaluation parameters are thus : \\n', classification_report(y_test, y_pred))\n",
    "    print(\"=\"*50)\n"
   ]
  },
  {
   "cell_type": "markdown",
   "id": "b17dbaf9",
   "metadata": {
    "papermill": {
     "duration": 0.058723,
     "end_time": "2024-03-13T15:43:06.315648",
     "exception": false,
     "start_time": "2024-03-13T15:43:06.256925",
     "status": "completed"
    },
    "tags": []
   },
   "source": [
    "> Lets evaluate the models again, but this time with preprocessing step for standardizing the feaatures"
   ]
  },
  {
   "cell_type": "code",
   "execution_count": 379,
   "id": "34192a3b",
   "metadata": {
    "papermill": {
     "duration": 0.304454,
     "end_time": "2024-03-13T15:43:06.679393",
     "exception": false,
     "start_time": "2024-03-13T15:43:06.374939",
     "status": "completed"
    },
    "tags": []
   },
   "outputs": [
    {
     "name": "stdout",
     "output_type": "stream",
     "text": [
      "Evaluating Logistic Regression:\n",
      "Accuracy of Logistic Regression Classifier on test set: 0.93\n",
      "\n",
      "The confusion Matrix is : \n",
      " [[108   5]\n",
      " [  7  43]]\n",
      "\n",
      "The evaluation parameters are : \n",
      "               precision    recall  f1-score   support\n",
      "\n",
      "           0       0.94      0.96      0.95       113\n",
      "           1       0.90      0.86      0.88        50\n",
      "\n",
      "    accuracy                           0.93       163\n",
      "   macro avg       0.92      0.91      0.91       163\n",
      "weighted avg       0.93      0.93      0.93       163\n",
      "\n",
      "====================================================================================================\n",
      "Evaluating Ridge Classifier:\n",
      "Accuracy of Ridge Classifier Classifier on test set: 0.90\n",
      "\n",
      "The confusion Matrix is : \n",
      " [[106   7]\n",
      " [ 10  40]]\n",
      "\n",
      "The evaluation parameters are : \n",
      "               precision    recall  f1-score   support\n",
      "\n",
      "           0       0.91      0.94      0.93       113\n",
      "           1       0.85      0.80      0.82        50\n",
      "\n",
      "    accuracy                           0.90       163\n",
      "   macro avg       0.88      0.87      0.88       163\n",
      "weighted avg       0.89      0.90      0.89       163\n",
      "\n",
      "====================================================================================================\n",
      "Evaluating Stochastic Gradient Descent:\n",
      "Accuracy of Stochastic Gradient Descent Classifier on test set: 0.90\n",
      "\n",
      "The confusion Matrix is : \n",
      " [[106   7]\n",
      " [  9  41]]\n",
      "\n",
      "The evaluation parameters are : \n",
      "               precision    recall  f1-score   support\n",
      "\n",
      "           0       0.92      0.94      0.93       113\n",
      "           1       0.85      0.82      0.84        50\n",
      "\n",
      "    accuracy                           0.90       163\n",
      "   macro avg       0.89      0.88      0.88       163\n",
      "weighted avg       0.90      0.90      0.90       163\n",
      "\n",
      "====================================================================================================\n",
      "Evaluating Linear SVM:\n",
      "Accuracy of Linear SVM Classifier on test set: 0.91\n",
      "\n",
      "The confusion Matrix is : \n",
      " [[107   6]\n",
      " [  8  42]]\n",
      "\n",
      "The evaluation parameters are : \n",
      "               precision    recall  f1-score   support\n",
      "\n",
      "           0       0.93      0.95      0.94       113\n",
      "           1       0.88      0.84      0.86        50\n",
      "\n",
      "    accuracy                           0.91       163\n",
      "   macro avg       0.90      0.89      0.90       163\n",
      "weighted avg       0.91      0.91      0.91       163\n",
      "\n",
      "====================================================================================================\n"
     ]
    }
   ],
   "source": [
    "from sklearn.pipeline import Pipeline\n",
    "from sklearn.preprocessing import StandardScaler\n",
    "from sklearn.linear_model import LogisticRegression, RidgeClassifier, SGDClassifier\n",
    "from sklearn.svm import LinearSVC\n",
    "from sklearn.metrics import confusion_matrix, classification_report\n",
    "from sklearn.model_selection import train_test_split\n",
    "\n",
    "\n",
    "# Define a list of linear classifiers\n",
    "classifiers = {\n",
    "    \"Logistic Regression\": LogisticRegression(),\n",
    "    \"Ridge Classifier\": RidgeClassifier(),\n",
    "    \"Stochastic Gradient Descent\": SGDClassifier(),\n",
    "    \"Linear SVM\": LinearSVC()\n",
    "}\n",
    "\n",
    "# Create a preprocessing pipeline with StandardScaler\n",
    "preprocessor = Pipeline([\n",
    "    ('scaler', StandardScaler())\n",
    "])\n",
    "\n",
    "# Loop through each classifier\n",
    "for name, classifier in classifiers.items():\n",
    "    print(f\"Evaluating {name}:\")\n",
    "    # Create a pipeline combining the preprocessing step and the classifier\n",
    "    model = Pipeline([\n",
    "        ('preprocessor', preprocessor),\n",
    "        ('classifier', classifier)\n",
    "    ])\n",
    "    \n",
    "    # Fit the model\n",
    "    model.fit(X_train, y_train)\n",
    "    \n",
    "    # Predict on the test set\n",
    "    y_pred = model.predict(X_test)\n",
    "    \n",
    "    # Calculate accuracy\n",
    "    accuracy = model.score(X_test, y_test)\n",
    "    print(f\"Accuracy of {name} Classifier on test set: {accuracy:.2f}\")\n",
    "\n",
    "    # Calculate confusion matrix\n",
    "    conf_matrix = confusion_matrix(y_test, y_pred)\n",
    "    print('\\nThe confusion Matrix is : \\n', conf_matrix)\n",
    "\n",
    "    # Print classification report\n",
    "    print('\\nThe evaluation parameters are : \\n', classification_report(y_test, y_pred))\n",
    "    print(\"=\"*100)\n",
    "\n",
    "    "
   ]
  },
  {
   "cell_type": "markdown",
   "id": "88e2f8dc",
   "metadata": {
    "papermill": {
     "duration": 0.058662,
     "end_time": "2024-03-13T15:43:06.796070",
     "exception": false,
     "start_time": "2024-03-13T15:43:06.737408",
     "status": "completed"
    },
    "tags": []
   },
   "source": [
    "> Perfoming standardization greatly improved our linear models\n",
    "\n",
    "> The Logistic regression and SVM out performed other models both with accuracy score of 90%"
   ]
  },
  {
   "cell_type": "markdown",
   "id": "ccd9543d",
   "metadata": {
    "papermill": {
     "duration": 0.057975,
     "end_time": "2024-03-13T15:43:06.912098",
     "exception": false,
     "start_time": "2024-03-13T15:43:06.854123",
     "status": "completed"
    },
    "tags": []
   },
   "source": [
    "<div style=\"background-color: #F0F4F7; border-radius: 10px; padding: 20px;\">\n",
    "    <h4 style=\"font-family: Arial, sans-serif; color: #2E4053; text-align: center;\">Classification using Non-Linear Models</h4>\n",
    "</div>"
   ]
  },
  {
   "cell_type": "markdown",
   "id": "78a18935",
   "metadata": {
    "papermill": {
     "duration": 0.05761,
     "end_time": "2024-03-13T15:43:07.027798",
     "exception": false,
     "start_time": "2024-03-13T15:43:06.970188",
     "status": "completed"
    },
    "tags": []
   },
   "source": [
    "> Lets check the performances of non-linear classiffiers"
   ]
  },
  {
   "cell_type": "code",
   "execution_count": 383,
   "id": "89afe94d",
   "metadata": {
    "papermill": {
     "duration": 0.840401,
     "end_time": "2024-03-13T15:43:07.926759",
     "exception": false,
     "start_time": "2024-03-13T15:43:07.086358",
     "status": "completed"
    },
    "tags": []
   },
   "outputs": [
    {
     "name": "stdout",
     "output_type": "stream",
     "text": [
      "Evaluating Decision Tree:\n",
      "Accuracy of Decision Tree Classifier on test set: 0.80\n",
      "\n",
      "The confusion Matrix is : \n",
      " [[93 20]\n",
      " [12 38]]\n",
      "\n",
      "The evaluation parameters are : \n",
      "               precision    recall  f1-score   support\n",
      "\n",
      "           0       0.89      0.82      0.85       113\n",
      "           1       0.66      0.76      0.70        50\n",
      "\n",
      "    accuracy                           0.80       163\n",
      "   macro avg       0.77      0.79      0.78       163\n",
      "weighted avg       0.81      0.80      0.81       163\n",
      "\n",
      "==================================================\n",
      "Evaluating Random Forest:\n",
      "Accuracy of Random Forest Classifier on test set: 0.92\n",
      "\n",
      "The confusion Matrix is : \n",
      " [[110   3]\n",
      " [ 10  40]]\n",
      "\n",
      "The evaluation parameters are : \n",
      "               precision    recall  f1-score   support\n",
      "\n",
      "           0       0.92      0.97      0.94       113\n",
      "           1       0.93      0.80      0.86        50\n",
      "\n",
      "    accuracy                           0.92       163\n",
      "   macro avg       0.92      0.89      0.90       163\n",
      "weighted avg       0.92      0.92      0.92       163\n",
      "\n",
      "==================================================\n",
      "Evaluating Gradient Boosting:\n",
      "Accuracy of Gradient Boosting Classifier on test set: 0.92\n",
      "\n",
      "The confusion Matrix is : \n",
      " [[111   2]\n",
      " [ 11  39]]\n",
      "\n",
      "The evaluation parameters are : \n",
      "               precision    recall  f1-score   support\n",
      "\n",
      "           0       0.91      0.98      0.94       113\n",
      "           1       0.95      0.78      0.86        50\n",
      "\n",
      "    accuracy                           0.92       163\n",
      "   macro avg       0.93      0.88      0.90       163\n",
      "weighted avg       0.92      0.92      0.92       163\n",
      "\n",
      "==================================================\n",
      "Evaluating K-Nearest Neighbors:\n",
      "Accuracy of K-Nearest Neighbors Classifier on test set: 0.89\n",
      "\n",
      "The confusion Matrix is : \n",
      " [[109   4]\n",
      " [ 14  36]]\n",
      "\n",
      "The evaluation parameters are : \n",
      "               precision    recall  f1-score   support\n",
      "\n",
      "           0       0.89      0.96      0.92       113\n",
      "           1       0.90      0.72      0.80        50\n",
      "\n",
      "    accuracy                           0.89       163\n",
      "   macro avg       0.89      0.84      0.86       163\n",
      "weighted avg       0.89      0.89      0.89       163\n",
      "\n",
      "==================================================\n"
     ]
    }
   ],
   "source": [
    "from sklearn.pipeline import Pipeline\n",
    "from sklearn.preprocessing import StandardScaler\n",
    "from sklearn.ensemble import RandomForestClassifier, GradientBoostingClassifier\n",
    "from sklearn.tree import DecisionTreeClassifier\n",
    "from sklearn.neighbors import KNeighborsClassifier\n",
    "from sklearn.metrics import confusion_matrix, classification_report\n",
    "from sklearn.model_selection import train_test_split\n",
    "\n",
    "\n",
    "\n",
    "# Define a list of non-linear classifiers\n",
    "classifiers = {\n",
    "    \"Decision Tree\": DecisionTreeClassifier(),\n",
    "    \"Random Forest\": RandomForestClassifier(),\n",
    "    \"Gradient Boosting\": GradientBoostingClassifier(),\n",
    "    \"K-Nearest Neighbors\": KNeighborsClassifier()\n",
    "}\n",
    "\n",
    "# Create a preprocessing pipeline with StandardScaler\n",
    "preprocessor = Pipeline([\n",
    "    ('scaler', StandardScaler())\n",
    "])\n",
    "\n",
    "# Loop through each classifier\n",
    "for name, classifier in classifiers.items():\n",
    "    print(f\"Evaluating {name}:\")\n",
    "    \n",
    "    # Create a pipeline combining the preprocessing step and the classifier\n",
    "    model = Pipeline([\n",
    "        ('preprocessor', preprocessor),\n",
    "        ('classifier', classifier)\n",
    "    ])\n",
    "    \n",
    "    # Fit the model\n",
    "    model.fit(X_train, y_train)\n",
    "    \n",
    "    # Predict on the test set\n",
    "    y_pred = model.predict(X_test)\n",
    "    \n",
    "    # Calculate accuracy\n",
    "    accuracy = model.score(X_test, y_test)\n",
    "    print(f\"Accuracy of {name} Classifier on test set: {accuracy:.2f}\")\n",
    "\n",
    "    # Calculate confusion matrix\n",
    "    conf_matrix = confusion_matrix(y_test, y_pred)\n",
    "    print('\\nThe confusion Matrix is : \\n', conf_matrix)\n",
    "\n",
    "    # Print classification report\n",
    "    print('\\nThe evaluation parameters are : \\n', classification_report(y_test, y_pred))\n",
    "    print(\"=\"*50)\n"
   ]
  },
  {
   "cell_type": "markdown",
   "id": "61d6648a",
   "metadata": {
    "papermill": {
     "duration": 0.05742,
     "end_time": "2024-03-13T15:43:08.042948",
     "exception": false,
     "start_time": "2024-03-13T15:43:07.985528",
     "status": "completed"
    },
    "tags": []
   },
   "source": [
    "> Lets improve our models with hyperparameter tuning\n",
    "\n",
    "> First we define a parameter grid for each classifier containing the hyperparameters we want to tune. We then loop through each classifier, create a pipeline combining the preprocessing step and the classifier, and define a grid search with cross-validation using GridSearchCV. We fit the grid search to find the best hyperparameters and then use the best model to predict on the test set. Finally, we evaluate the model's performance using accuracy, confusion matrix, and classification report."
   ]
  },
  {
   "cell_type": "code",
   "execution_count": 385,
   "id": "fd445933",
   "metadata": {
    "papermill": {
     "duration": 48.395318,
     "end_time": "2024-03-13T15:43:56.496149",
     "exception": false,
     "start_time": "2024-03-13T15:43:08.100831",
     "status": "completed"
    },
    "tags": []
   },
   "outputs": [
    {
     "name": "stdout",
     "output_type": "stream",
     "text": [
      "Evaluating Decision Tree:\n",
      "Best Hyperparameters: {'classifier__max_depth': 3, 'classifier__min_samples_split': 2}\n",
      "Accuracy of Decision Tree Classifier on test set: 0.84\n",
      "\n",
      "The confusion Matrix is : \n",
      " [[103  10]\n",
      " [ 16  34]]\n",
      "\n",
      "The evaluation parameters are : \n",
      "               precision    recall  f1-score   support\n",
      "\n",
      "           0       0.87      0.91      0.89       113\n",
      "           1       0.77      0.68      0.72        50\n",
      "\n",
      "    accuracy                           0.84       163\n",
      "   macro avg       0.82      0.80      0.81       163\n",
      "weighted avg       0.84      0.84      0.84       163\n",
      "\n",
      "==================================================\n",
      "Evaluating Random Forest:\n",
      "Best Hyperparameters: {'classifier__max_depth': None, 'classifier__min_samples_split': 10, 'classifier__n_estimators': 100}\n",
      "Accuracy of Random Forest Classifier on test set: 0.94\n",
      "\n",
      "The confusion Matrix is : \n",
      " [[112   1]\n",
      " [  9  41]]\n",
      "\n",
      "The evaluation parameters are : \n",
      "               precision    recall  f1-score   support\n",
      "\n",
      "           0       0.93      0.99      0.96       113\n",
      "           1       0.98      0.82      0.89        50\n",
      "\n",
      "    accuracy                           0.94       163\n",
      "   macro avg       0.95      0.91      0.92       163\n",
      "weighted avg       0.94      0.94      0.94       163\n",
      "\n",
      "==================================================\n",
      "Evaluating Gradient Boosting:\n",
      "Best Hyperparameters: {'classifier__learning_rate': 0.2, 'classifier__max_depth': 3, 'classifier__n_estimators': 50}\n",
      "Accuracy of Gradient Boosting Classifier on test set: 0.91\n",
      "\n",
      "The confusion Matrix is : \n",
      " [[109   4]\n",
      " [ 11  39]]\n",
      "\n",
      "The evaluation parameters are : \n",
      "               precision    recall  f1-score   support\n",
      "\n",
      "           0       0.91      0.96      0.94       113\n",
      "           1       0.91      0.78      0.84        50\n",
      "\n",
      "    accuracy                           0.91       163\n",
      "   macro avg       0.91      0.87      0.89       163\n",
      "weighted avg       0.91      0.91      0.91       163\n",
      "\n",
      "==================================================\n",
      "Evaluating K-Nearest Neighbors:\n",
      "Best Hyperparameters: {'classifier__n_neighbors': 7, 'classifier__weights': 'uniform'}\n",
      "Accuracy of K-Nearest Neighbors Classifier on test set: 0.87\n",
      "\n",
      "The confusion Matrix is : \n",
      " [[109   4]\n",
      " [ 17  33]]\n",
      "\n",
      "The evaluation parameters are : \n",
      "               precision    recall  f1-score   support\n",
      "\n",
      "           0       0.87      0.96      0.91       113\n",
      "           1       0.89      0.66      0.76        50\n",
      "\n",
      "    accuracy                           0.87       163\n",
      "   macro avg       0.88      0.81      0.84       163\n",
      "weighted avg       0.87      0.87      0.87       163\n",
      "\n",
      "==================================================\n"
     ]
    }
   ],
   "source": [
    "from sklearn.model_selection import GridSearchCV\n",
    "\n",
    "# Define a parameter grid for each classifier\n",
    "param_grid = {\n",
    "    \"Decision Tree\": {\n",
    "        \"classifier__max_depth\": [3, 5, 7, None],\n",
    "        \"classifier__min_samples_split\": [2, 5, 10]\n",
    "    },\n",
    "    \"Random Forest\": {\n",
    "        \"classifier__n_estimators\": [50, 100, 200],\n",
    "        \"classifier__max_depth\": [3, 5, 7, None],\n",
    "        \"classifier__min_samples_split\": [2, 5, 10]\n",
    "    },\n",
    "    \"Gradient Boosting\": {\n",
    "        \"classifier__n_estimators\": [50, 100, 200],\n",
    "        \"classifier__learning_rate\": [0.01, 0.1, 0.2],\n",
    "        \"classifier__max_depth\": [3, 5, 7]\n",
    "    },\n",
    "    \"K-Nearest Neighbors\": {\n",
    "        \"classifier__n_neighbors\": [3, 5, 7, 10],\n",
    "        \"classifier__weights\": ['uniform', 'distance']\n",
    "    }\n",
    "}\n",
    "\n",
    "# Loop through each classifier\n",
    "for name, classifier in classifiers.items():\n",
    "    print(f\"Evaluating {name}:\")\n",
    "    \n",
    "    # Create a pipeline combining the preprocessing step and the classifier\n",
    "    model = Pipeline([\n",
    "        ('preprocessor', preprocessor),\n",
    "        ('classifier', classifier)\n",
    "    ])\n",
    "    \n",
    "    # Define the grid search with cross-validation\n",
    "    grid_search = GridSearchCV(model, param_grid[name], cv=5, n_jobs=-1)\n",
    "    \n",
    "    # Fit the grid search to find the best hyperparameters\n",
    "    grid_search.fit(X_train, y_train)\n",
    "    \n",
    "    # Get the best hyperparameters\n",
    "    best_params = grid_search.best_params_\n",
    "    print(\"Best Hyperparameters:\", best_params)\n",
    "    \n",
    "    # Predict on the test set using the best model\n",
    "    best_model = grid_search.best_estimator_\n",
    "    y_pred = best_model.predict(X_test)\n",
    "    \n",
    "    # Calculate accuracy\n",
    "    accuracy = best_model.score(X_test, y_test)\n",
    "    print(f\"Accuracy of {name} Classifier on test set: {accuracy:.2f}\")\n",
    "\n",
    "    # Calculate confusion matrix\n",
    "    conf_matrix = confusion_matrix(y_test, y_pred)\n",
    "    print('\\nThe confusion Matrix is : \\n', conf_matrix)\n",
    "\n",
    "    # Print classification report\n",
    "    print('\\nThe evaluation parameters are : \\n', classification_report(y_test, y_pred))\n",
    "    print(\"=\"*50)\n"
   ]
  },
  {
   "cell_type": "markdown",
   "id": "5a6c8d76",
   "metadata": {
    "papermill": {
     "duration": 0.059592,
     "end_time": "2024-03-13T15:43:56.633874",
     "exception": false,
     "start_time": "2024-03-13T15:43:56.574282",
     "status": "completed"
    },
    "tags": []
   },
   "source": [
    "> The Random Forest and Gradient Boosting Classifiers are the superior models for this project, both with an accuracy score 0f 93%"
   ]
  },
  {
   "cell_type": "markdown",
   "id": "ab59948a",
   "metadata": {
    "jp-MarkdownHeadingCollapsed": true,
    "papermill": {
     "duration": 0.058582,
     "end_time": "2024-03-13T15:43:56.751769",
     "exception": false,
     "start_time": "2024-03-13T15:43:56.693187",
     "status": "completed"
    },
    "tags": []
   },
   "source": [
    "<div style=\"background-color: #F0F4F7; border-radius: 10px; padding: 20px;\">\n",
    "    <h4 style=\"font-family: Arial, sans-serif; color: #2E4053; text-align: center;\">TERMINAION</h4>\n",
    "</div>"
   ]
  }
 ],
 "metadata": {
  "kaggle": {
   "accelerator": "none",
   "dataSources": [
    {
     "datasetId": 417892,
     "sourceId": 1325689,
     "sourceType": "datasetVersion"
    },
    {
     "datasetId": 4592106,
     "sourceId": 7834554,
     "sourceType": "datasetVersion"
    }
   ],
   "dockerImageVersionId": 30664,
   "isGpuEnabled": false,
   "isInternetEnabled": true,
   "language": "python",
   "sourceType": "notebook"
  },
  "kernelspec": {
   "display_name": "Python 3 (ipykernel)",
   "language": "python",
   "name": "python3"
  },
  "language_info": {
   "codemirror_mode": {
    "name": "ipython",
    "version": 3
   },
   "file_extension": ".py",
   "mimetype": "text/x-python",
   "name": "python",
   "nbconvert_exporter": "python",
   "pygments_lexer": "ipython3",
   "version": "3.11.7"
  },
  "papermill": {
   "default_parameters": {},
   "duration": 251.642396,
   "end_time": "2024-03-13T15:43:59.551379",
   "environment_variables": {},
   "exception": null,
   "input_path": "__notebook__.ipynb",
   "output_path": "__notebook__.ipynb",
   "parameters": {},
   "start_time": "2024-03-13T15:39:47.908983",
   "version": "2.5.0"
  }
 },
 "nbformat": 4,
 "nbformat_minor": 5
}
